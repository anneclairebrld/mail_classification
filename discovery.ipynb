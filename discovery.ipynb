{
 "cells": [
  {
   "cell_type": "code",
   "execution_count": 1,
   "metadata": {},
   "outputs": [
    {
     "name": "stderr",
     "output_type": "stream",
     "text": [
      "/usr/lib/python3/dist-packages/sklearn/cross_validation.py:41: DeprecationWarning: This module was deprecated in version 0.18 in favor of the model_selection module into which all the refactored classes and functions are moved. Also note that the interface of the new CV iterators are different from that of this module. This module will be removed in 0.20.\n",
      "  \"This module will be removed in 0.20.\", DeprecationWarning)\n",
      "/usr/lib/python3/dist-packages/sklearn/grid_search.py:42: DeprecationWarning: This module was deprecated in version 0.18 in favor of the model_selection module into which all the refactored classes and functions are moved. This module will be removed in 0.20.\n",
      "  DeprecationWarning)\n",
      "/usr/lib/python3/dist-packages/sklearn/learning_curve.py:22: DeprecationWarning: This module was deprecated in version 0.18 in favor of the model_selection module into which all the functions are moved. This module will be removed in 0.20\n",
      "  DeprecationWarning)\n"
     ]
    }
   ],
   "source": [
    "%matplotlib inline\n",
    "import matplotlib.pyplot as plt\n",
    "import csv\n",
    "import pandas\n",
    "import sklearn\n",
    "import numpy as np\n",
    "import pandas as pd\n",
    "from sklearn.feature_extraction.text import CountVectorizer, TfidfTransformer\n",
    "from sklearn.naive_bayes import MultinomialNB\n",
    "from sklearn.svm import SVC, LinearSVC\n",
    "from sklearn.metrics import classification_report, f1_score, accuracy_score, confusion_matrix\n",
    "from sklearn.pipeline import Pipeline\n",
    "from sklearn.grid_search import GridSearchCV\n",
    "from sklearn.cross_validation import StratifiedKFold, cross_val_score, train_test_split \n",
    "from sklearn.tree import DecisionTreeClassifier \n",
    "from sklearn.learning_curve import learning_curve"
   ]
  },
  {
   "cell_type": "code",
   "execution_count": 2,
   "metadata": {},
   "outputs": [
    {
     "data": {
      "text/html": [
       "<div>\n",
       "<style scoped>\n",
       "    .dataframe tbody tr th:only-of-type {\n",
       "        vertical-align: middle;\n",
       "    }\n",
       "\n",
       "    .dataframe tbody tr th {\n",
       "        vertical-align: top;\n",
       "    }\n",
       "\n",
       "    .dataframe thead tr th {\n",
       "        text-align: left;\n",
       "    }\n",
       "\n",
       "    .dataframe thead tr:last-of-type th {\n",
       "        text-align: right;\n",
       "    }\n",
       "</style>\n",
       "<table border=\"1\" class=\"dataframe\">\n",
       "  <thead>\n",
       "    <tr>\n",
       "      <th></th>\n",
       "      <th colspan=\"8\" halign=\"left\">Unnamed: 0</th>\n",
       "      <th colspan=\"2\" halign=\"left\">bcced</th>\n",
       "      <th>...</th>\n",
       "      <th colspan=\"2\" halign=\"left\">salutations</th>\n",
       "      <th colspan=\"8\" halign=\"left\">urls</th>\n",
       "    </tr>\n",
       "    <tr>\n",
       "      <th></th>\n",
       "      <th>count</th>\n",
       "      <th>mean</th>\n",
       "      <th>std</th>\n",
       "      <th>min</th>\n",
       "      <th>25%</th>\n",
       "      <th>50%</th>\n",
       "      <th>75%</th>\n",
       "      <th>max</th>\n",
       "      <th>count</th>\n",
       "      <th>mean</th>\n",
       "      <th>...</th>\n",
       "      <th>75%</th>\n",
       "      <th>max</th>\n",
       "      <th>count</th>\n",
       "      <th>mean</th>\n",
       "      <th>std</th>\n",
       "      <th>min</th>\n",
       "      <th>25%</th>\n",
       "      <th>50%</th>\n",
       "      <th>75%</th>\n",
       "      <th>max</th>\n",
       "    </tr>\n",
       "    <tr>\n",
       "      <th>label</th>\n",
       "      <th></th>\n",
       "      <th></th>\n",
       "      <th></th>\n",
       "      <th></th>\n",
       "      <th></th>\n",
       "      <th></th>\n",
       "      <th></th>\n",
       "      <th></th>\n",
       "      <th></th>\n",
       "      <th></th>\n",
       "      <th></th>\n",
       "      <th></th>\n",
       "      <th></th>\n",
       "      <th></th>\n",
       "      <th></th>\n",
       "      <th></th>\n",
       "      <th></th>\n",
       "      <th></th>\n",
       "      <th></th>\n",
       "      <th></th>\n",
       "      <th></th>\n",
       "    </tr>\n",
       "  </thead>\n",
       "  <tbody>\n",
       "    <tr>\n",
       "      <th>0</th>\n",
       "      <td>10461.0</td>\n",
       "      <td>12393.232961</td>\n",
       "      <td>7175.574798</td>\n",
       "      <td>10.0</td>\n",
       "      <td>6167.00</td>\n",
       "      <td>12405.0</td>\n",
       "      <td>18632.0</td>\n",
       "      <td>24839.0</td>\n",
       "      <td>10461.0</td>\n",
       "      <td>0.000765</td>\n",
       "      <td>...</td>\n",
       "      <td>1.0</td>\n",
       "      <td>1.0</td>\n",
       "      <td>10461.0</td>\n",
       "      <td>27.043495</td>\n",
       "      <td>35.397882</td>\n",
       "      <td>0.0</td>\n",
       "      <td>7.0</td>\n",
       "      <td>19.0</td>\n",
       "      <td>33.0</td>\n",
       "      <td>617.0</td>\n",
       "    </tr>\n",
       "    <tr>\n",
       "      <th>1</th>\n",
       "      <td>3579.0</td>\n",
       "      <td>12591.977647</td>\n",
       "      <td>7154.479452</td>\n",
       "      <td>1.0</td>\n",
       "      <td>6471.00</td>\n",
       "      <td>12665.0</td>\n",
       "      <td>18778.5</td>\n",
       "      <td>24837.0</td>\n",
       "      <td>3579.0</td>\n",
       "      <td>0.000000</td>\n",
       "      <td>...</td>\n",
       "      <td>1.0</td>\n",
       "      <td>1.0</td>\n",
       "      <td>3579.0</td>\n",
       "      <td>79.918692</td>\n",
       "      <td>58.417474</td>\n",
       "      <td>0.0</td>\n",
       "      <td>33.0</td>\n",
       "      <td>71.0</td>\n",
       "      <td>108.0</td>\n",
       "      <td>386.0</td>\n",
       "    </tr>\n",
       "    <tr>\n",
       "      <th>2</th>\n",
       "      <td>4874.0</td>\n",
       "      <td>12381.087197</td>\n",
       "      <td>7191.670984</td>\n",
       "      <td>3.0</td>\n",
       "      <td>6195.25</td>\n",
       "      <td>12263.5</td>\n",
       "      <td>18579.5</td>\n",
       "      <td>24838.0</td>\n",
       "      <td>4874.0</td>\n",
       "      <td>0.004514</td>\n",
       "      <td>...</td>\n",
       "      <td>1.0</td>\n",
       "      <td>1.0</td>\n",
       "      <td>4874.0</td>\n",
       "      <td>7.417932</td>\n",
       "      <td>80.817351</td>\n",
       "      <td>0.0</td>\n",
       "      <td>0.0</td>\n",
       "      <td>2.0</td>\n",
       "      <td>8.0</td>\n",
       "      <td>5532.0</td>\n",
       "    </tr>\n",
       "    <tr>\n",
       "      <th>3</th>\n",
       "      <td>5926.0</td>\n",
       "      <td>12393.294465</td>\n",
       "      <td>7155.495973</td>\n",
       "      <td>0.0</td>\n",
       "      <td>6138.75</td>\n",
       "      <td>12439.5</td>\n",
       "      <td>18486.5</td>\n",
       "      <td>24834.0</td>\n",
       "      <td>5926.0</td>\n",
       "      <td>0.000169</td>\n",
       "      <td>...</td>\n",
       "      <td>1.0</td>\n",
       "      <td>1.0</td>\n",
       "      <td>5926.0</td>\n",
       "      <td>63.188660</td>\n",
       "      <td>53.081205</td>\n",
       "      <td>0.0</td>\n",
       "      <td>22.0</td>\n",
       "      <td>48.0</td>\n",
       "      <td>95.0</td>\n",
       "      <td>332.0</td>\n",
       "    </tr>\n",
       "  </tbody>\n",
       "</table>\n",
       "<p>4 rows × 72 columns</p>\n",
       "</div>"
      ],
      "text/plain": [
       "      Unnamed: 0                                                              \\\n",
       "           count          mean          std   min      25%      50%      75%   \n",
       "label                                                                          \n",
       "0        10461.0  12393.232961  7175.574798  10.0  6167.00  12405.0  18632.0   \n",
       "1         3579.0  12591.977647  7154.479452   1.0  6471.00  12665.0  18778.5   \n",
       "2         4874.0  12381.087197  7191.670984   3.0  6195.25  12263.5  18579.5   \n",
       "3         5926.0  12393.294465  7155.495973   0.0  6138.75  12439.5  18486.5   \n",
       "\n",
       "                  bcced             ...   salutations          urls  \\\n",
       "           max    count      mean   ...           75%  max    count   \n",
       "label                               ...                               \n",
       "0      24839.0  10461.0  0.000765   ...           1.0  1.0  10461.0   \n",
       "1      24837.0   3579.0  0.000000   ...           1.0  1.0   3579.0   \n",
       "2      24838.0   4874.0  0.004514   ...           1.0  1.0   4874.0   \n",
       "3      24834.0   5926.0  0.000169   ...           1.0  1.0   5926.0   \n",
       "\n",
       "                                                             \n",
       "            mean        std  min   25%   50%    75%     max  \n",
       "label                                                        \n",
       "0      27.043495  35.397882  0.0   7.0  19.0   33.0   617.0  \n",
       "1      79.918692  58.417474  0.0  33.0  71.0  108.0   386.0  \n",
       "2       7.417932  80.817351  0.0   0.0   2.0    8.0  5532.0  \n",
       "3      63.188660  53.081205  0.0  22.0  48.0   95.0   332.0  \n",
       "\n",
       "[4 rows x 72 columns]"
      ]
     },
     "execution_count": 2,
     "metadata": {},
     "output_type": "execute_result"
    }
   ],
   "source": [
    "data_dir = './data/'\n",
    "train_df = pd.read_csv(data_dir + 'train.csv')\n",
    "descriptions = train_df.groupby('label').describe()\n",
    "descriptions.to_csv(data_dir + 'descriptions.csv')\n",
    "descriptions.head()"
   ]
  },
  {
   "cell_type": "code",
   "execution_count": 207,
   "metadata": {},
   "outputs": [
    {
     "data": {
      "text/plain": [
       "array([[<matplotlib.axes._subplots.AxesSubplot object at 0x7f33fe3a4f60>,\n",
       "        <matplotlib.axes._subplots.AxesSubplot object at 0x7f33e783ca58>],\n",
       "       [<matplotlib.axes._subplots.AxesSubplot object at 0x7f33e77f8748>,\n",
       "        <matplotlib.axes._subplots.AxesSubplot object at 0x7f33e77b4278>]],\n",
       "      dtype=object)"
      ]
     },
     "execution_count": 207,
     "metadata": {},
     "output_type": "execute_result"
    },
    {
     "data": {
      "image/png": "[encoded data removed]",
      "text/plain": [
       "<matplotlib.figure.Figure at 0x7f33e6acfac8>"
      ]
     },
     "metadata": {
      "needs_background": "light"
     },
     "output_type": "display_data"
    }
   ],
   "source": [
    "train_df.hist(column='chars_in_subject', by='label', bins=50)"
   ]
  },
  {
   "cell_type": "code",
   "execution_count": 10,
   "metadata": {},
   "outputs": [
    {
     "data": {
      "text/plain": [
       "array([[<matplotlib.axes._subplots.AxesSubplot object at 0x7f3e814b30b8>,\n",
       "        <matplotlib.axes._subplots.AxesSubplot object at 0x7f3e811bbe10>],\n",
       "       [<matplotlib.axes._subplots.AxesSubplot object at 0x7f3e81166e10>,\n",
       "        <matplotlib.axes._subplots.AxesSubplot object at 0x7f3e81122ef0>]],\n",
       "      dtype=object)"
      ]
     },
     "execution_count": 10,
     "metadata": {},
     "output_type": "execute_result"
    },
    {
     "data": {
      "image/png": "[encoded data removed]",
      "text/plain": [
       "<matplotlib.figure.Figure at 0x7f3e814f24e0>"
      ]
     },
     "metadata": {
      "needs_background": "light"
     },
     "output_type": "display_data"
    }
   ],
   "source": [
    "train_df.hist(column='chars_in_body', by='label', bins=50)"
   ]
  },
  {
   "cell_type": "code",
   "execution_count": 4,
   "metadata": {},
   "outputs": [],
   "source": [
    "train_df['designation'] = train_df['designation'].apply(lambda x: 100 if type(x) is not int else x)\n",
    "#train_df.plot.pie(y='designation', by='label', bins=50, subplots=True)\n",
    "train_df['org'] = train_df['org'].apply(lambda x: 'porn' if type(x) is str and 'porn' in x  else x)\n",
    "train_df['org'] = train_df['org'].apply(lambda x: 'centralesupelec' if type(x) is str and ('geeps' in x or 'supelec' in x or 'student-cs' in x) else x)\n",
    "train_df['org'] = train_df['org'].apply(lambda x: 'academia' if type(x) is str and ('usief' in x or 'acm' in x or 'iiitd' in x or 'inria' in x or 'researchgatemail' in x or 'researchgate' in x or 'academia' in x or 'ieee' in x or 'slack' in x or 'springboard' in x) else x)\n",
    "train_df['org'] = train_df['org'].apply(lambda x: 'social_media' if type(x) is str and ('flickr'in x or 'social' in x or 'facebook' in x or 'twitter' in x or 'quora' in x or 'youtube' in x or 'pinterest' in x or 'medium' in x) else x)\n",
    "train_df['org'] = train_df['org'].apply(lambda x: 'online_courses' if type(x) is str and ('nptel' in x or 'udemy' in x or 'mit'in x or 'classroom' in x or 'piazza' in x or 'duolingo' in x or 'learning' in x or 'edx' in x or 'coursera' in x or 'khanacademy' in x or 'usebackpack' in x)else x )\n",
    "train_df['org'] = train_df['org'].apply(lambda x: 'google' if type(x) is str and ('google' in x )else x )\n",
    "\n",
    "train_df['org'] = train_df['org'].apply(lambda x: 'coding' if type(x) is str and ('mapbox' in x or 'api' in x or 'php' in x or 'tech' in x or 'udacity' in x or 'evernote' in x or 'data' in x or 'stack' in x or 'sharelatex' in x or 'aws' in x or 'codalab' in x or 'trello' in x or 'overleaf' in x  or 'stackexchange' in x or 'hacker' in x or 'code' in x or 'kaggle' in x or 'github' in x or 'nvidia' in x or 'repository' in x ) else x)\n",
    "train_df['org'] = train_df['org'].apply(lambda x: 'online_shopping' if type(x) is str and ('ebay' in x or 'amazon' in x) else x)\n",
    "train_df['org'] = train_df['org'].apply(lambda x: 'work_media_offer' if type(x) is str and ('cocubes' in x or 'monsterindia' in x or 'job' in x or 'linkedin' in x or 'glassdoor' in x or 'hire' in x or 'career' in x) else x)\n",
    "train_df['org'] = train_df['org'].apply(lambda x: 'email' if type(x) is str and ('mail' in x ) else x)\n",
    "train_df['org'] = train_df['org'].apply(lambda x: 'travel' if type(x) is str and ('atlassian' in x or 'airfrance' in x or 'airindia' in x or 'airserbia' in x or 'thomascook' in x or 'easyjet' in x or 'ryanair' in x or 'uber' in x) else x)\n",
    "train_df['org'] = train_df['org'].apply(lambda x: 'entertainment' if type(x) is str and ('audio' in x or 'audible' in x or 'video' in x or 'imdb' in x or 'cinema' in x or 'entertainment' in x or 'spotify' in x or 'music' in x or 'movies' in x) else x)\n",
    "train_df['org'] = train_df['org'].apply(lambda x: 'offers_newsletters' if type(x) is str and ('indiatimes' in x or 'news' in x or 'coupon' in x or 'letter' in x or 'offer' in x)else x)\n",
    "train_df['org'] = train_df['org'].apply(lambda x: 'softwares' if type(x) is str and ('app' in x or 'dropbox' in x or 'airtable' in x or 'splitwise' in x)else x)\n",
    "train_df['org'] = train_df['org'].apply(lambda x: 'bank' if type(x) is str and ('kotak' in x or 'hsbc' in x or 'paytm' in x)else x)\n",
    "train_df['org'] = train_df['org'].apply(lambda x: 'food' if type(x) is str and ('bigbasket' in x or 'food' in x )else x)\n",
    "train_df['org'] = train_df['org'].apply(lambda x: 'other' if type(x) is str and (x not in ['food', 'bank', 'softwares', 'offers_newsletters', 'entertainment', 'travel', 'porn', 'centralesupelec', 'academia', 'social_media', 'online_courses', 'google', 'coding', 'online_shopping',  'work_media_offer', 'email'] )else x )\n"
   ]
  },
  {
   "cell_type": "code",
   "execution_count": 8,
   "metadata": {},
   "outputs": [
    {
     "data": {
      "text/plain": [
       "academia           4338\n",
       "centralesupelec     235\n",
       "coding              158\n",
       "email                27\n",
       "other                13\n",
       "google                7\n",
       "online_courses        6\n",
       "Name: org, dtype: int64"
      ]
     },
     "execution_count": 8,
     "metadata": {},
     "output_type": "execute_result"
    }
   ],
   "source": [
    "df_results = pd.DataFrame(train_df['org'].value_counts(), columns=['org'])\n",
    "df_results.index.names = ['ID']\n",
    "df_results.to_csv(data_dir + 'categories.csv')\n",
    "\n",
    "res = train_df[train_df['label'] == 2]['org'].value_counts()\n",
    "res"
   ]
  },
  {
   "cell_type": "code",
   "execution_count": 13,
   "metadata": {},
   "outputs": [
    {
     "data": {
      "text/plain": [
       "<matplotlib.axes._subplots.AxesSubplot at 0x7f3ebbb6f668>"
      ]
     },
     "execution_count": 13,
     "metadata": {},
     "output_type": "execute_result"
    },
    {
     "data": {
      "image/png": "[encoded data removed]",
      "text/plain": [
       "<matplotlib.figure.Figure at 0x7f3ebbe51f98>"
      ]
     },
     "metadata": {},
     "output_type": "display_data"
    }
   ],
   "source": [
    "train_df['sals+designation'] = train_df['salutations'] +  train_df['designation']\n",
    "\n",
    "res = train_df[train_df['label'] == 1]['sals+designation'].value_counts()\n",
    "res.plot.pie()"
   ]
  },
  {
   "cell_type": "code",
   "execution_count": 14,
   "metadata": {
    "scrolled": false
   },
   "outputs": [
    {
     "data": {
      "text/plain": [
       "<matplotlib.axes._subplots.AxesSubplot at 0x7f3ebab46860>"
      ]
     },
     "execution_count": 14,
     "metadata": {},
     "output_type": "execute_result"
    },
    {
     "data": {
      "image/png": "[encoded data removed]",
      "text/plain": [
       "<matplotlib.figure.Figure at 0x7f3e80f3b438>"
      ]
     },
     "metadata": {},
     "output_type": "display_data"
    }
   ],
   "source": [
    "res = train_df[train_df['label'] == 0]['sals+designation'].value_counts()\n",
    "res.plot.pie()"
   ]
  },
  {
   "cell_type": "code",
   "execution_count": 15,
   "metadata": {},
   "outputs": [
    {
     "data": {
      "text/plain": [
       "<matplotlib.axes._subplots.AxesSubplot at 0x7f3ebab05d30>"
      ]
     },
     "execution_count": 15,
     "metadata": {},
     "output_type": "execute_result"
    },
    {
     "data": {
      "image/png": "[encoded data removed]",
      "text/plain": [
       "<matplotlib.figure.Figure at 0x7f3ebab509e8>"
      ]
     },
     "metadata": {},
     "output_type": "display_data"
    }
   ],
   "source": [
    "res = train_df[train_df['label'] == 2]['sals+designation'].value_counts()\n",
    "res.plot.pie()"
   ]
  },
  {
   "cell_type": "code",
   "execution_count": 16,
   "metadata": {},
   "outputs": [
    {
     "data": {
      "text/plain": [
       "<matplotlib.axes._subplots.AxesSubplot at 0x7f3e80ed4940>"
      ]
     },
     "execution_count": 16,
     "metadata": {},
     "output_type": "execute_result"
    },
    {
     "data": {
      "image/png": "[encoded data removed]",
      "text/plain": [
       "<matplotlib.figure.Figure at 0x7f3ebab14a20>"
      ]
     },
     "metadata": {},
     "output_type": "display_data"
    }
   ],
   "source": [
    "res = train_df[train_df['label'] == 3]['sals+designation'].value_counts()\n",
    "res.plot.pie()"
   ]
  },
  {
   "cell_type": "code",
   "execution_count": 47,
   "metadata": {},
   "outputs": [],
   "source": [
    "train_df['sals+designation'] = train_df['salutations'] + train_df['designation'] "
   ]
  },
  {
   "cell_type": "code",
   "execution_count": null,
   "metadata": {},
   "outputs": [],
   "source": []
  }
 ],
 "metadata": {
  "kernelspec": {
   "display_name": "Python 3",
   "language": "python",
   "name": "python3"
  },
  "language_info": {
   "codemirror_mode": {
    "name": "ipython",
    "version": 3
   },
   "file_extension": ".py",
   "mimetype": "text/x-python",
   "name": "python",
   "nbconvert_exporter": "python",
   "pygments_lexer": "ipython3",
   "version": "3.6.8"
  }
 },
 "nbformat": 4,
 "nbformat_minor": 2
}
