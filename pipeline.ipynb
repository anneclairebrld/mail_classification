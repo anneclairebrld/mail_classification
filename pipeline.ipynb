{
 "cells": [
  {
   "cell_type": "code",
   "execution_count": 1,
   "metadata": {},
   "outputs": [
    {
     "name": "stderr",
     "output_type": "stream",
     "text": [
      "/usr/lib/python3/dist-packages/sklearn/ensemble/weight_boosting.py:29: DeprecationWarning: numpy.core.umath_tests is an internal NumPy module and should not be imported. It will be removed in a future NumPy release.\n",
      "  from numpy.core.umath_tests import inner1d\n"
     ]
    }
   ],
   "source": [
    "from feature_engineering import *\n",
    "\n",
    "from sklearn.ensemble import RandomForestClassifier\n",
    "from sklearn.model_selection import cross_val_score\n",
    "from sklearn.model_selection import KFold\n",
    "from sklearn.svm import SVC\n",
    "from sklearn import tree"
   ]
  },
  {
   "cell_type": "code",
   "execution_count": 2,
   "metadata": {},
   "outputs": [],
   "source": [
    "# read data in and write out data\n",
    "data_dir = './data/'\n",
    "train_df = pd.read_csv(data_dir + 'train.csv')\n",
    "test_df = pd.read_csv(data_dir + 'test.csv')\n",
    "\n",
    "# writing out to results file\n",
    "def write_out(predictions):\n",
    "    df_results = pd.DataFrame(predictions, columns=['label'])\n",
    "    df_results.index.names = ['ID']\n",
    "    df_results.to_csv(data_dir + 'results.csv')"
   ]
  },
  {
   "cell_type": "code",
   "execution_count": 3,
   "metadata": {},
   "outputs": [],
   "source": [
    "# do feature engineering\n",
    "train_df = date_features(train_df)\n",
    "train_df = mail_features(train_df)\n",
    "train_df = org_features(train_df)\n",
    "train_df = chars_in_subject_features(train_df)\n",
    "train_df = urls_features(train_df)\n",
    "train_df = tld_features(train_df)\n",
    "\n",
    "test_df = date_features(test_df)\n",
    "test_df = mail_features(test_df)\n",
    "test_df = org_features(test_df)\n",
    "test_df = chars_in_subject_features(test_df)\n",
    "test_df = urls_features(test_df)\n",
    "test_df = tld_features(test_df)"
   ]
  },
  {
   "cell_type": "code",
   "execution_count": 7,
   "metadata": {},
   "outputs": [
    {
     "data": {
      "text/plain": [
       "Index([             'Unnamed: 0',                    'date',\n",
       "                           'org',                     'tld',\n",
       "                           'ccs',                   'bcced',\n",
       "                     'mail_type',                  'images',\n",
       "                          'urls',             'salutations',\n",
       "                   'designation',        'chars_in_subject',\n",
       "                 'chars_in_body',                   'label',\n",
       "                     'date_time',                    'time',\n",
       "                     'time_zone',                    'year',\n",
       "                         'month',                     'day',\n",
       "                       'weekday',                         0,\n",
       "                               1,                         2,\n",
       "                               3,                         4,\n",
       "                               5,                         6,\n",
       "         'multipart/alternative',           'multipart/idm',\n",
       "               'multipart/mixed',       'multipart/related',\n",
       "                     'text/html',              'text/plain',\n",
       "                      'academia',                    'bank',\n",
       "               'centralesupelec',                  'coding',\n",
       "                         'email',           'entertainment',\n",
       "                          'food',                  'google',\n",
       "            'offers_newsletters',          'online_courses',\n",
       "               'online_shopping',                   'other',\n",
       "                          'porn',            'social_media',\n",
       "                     'softwares',                  'travel',\n",
       "       'chars_in_subject_binned',             'urls_binned'],\n",
       "      dtype='object')"
      ]
     },
     "execution_count": 7,
     "metadata": {},
     "output_type": "execute_result"
    }
   ],
   "source": [
    "train_df.columns\n"
   ]
  },
  {
   "cell_type": "code",
   "execution_count": 9,
   "metadata": {},
   "outputs": [
    {
     "data": {
      "text/plain": [
       "Index([             'Unnamed: 0',                    'date',\n",
       "                           'org',                     'tld',\n",
       "                           'ccs',                   'bcced',\n",
       "                     'mail_type',                  'images',\n",
       "                          'urls',             'salutations',\n",
       "                   'designation',        'chars_in_subject',\n",
       "                 'chars_in_body',               'date_time',\n",
       "                          'time',               'time_zone',\n",
       "                          'year',                   'month',\n",
       "                           'day',                 'weekday',\n",
       "                               0,                         1,\n",
       "                               2,                         3,\n",
       "                               4,                         5,\n",
       "                               6,   'multipart/alternative',\n",
       "               'multipart/mixed',       'multipart/related',\n",
       "                     'text/html',              'text/plain',\n",
       "                      'academia',                    'bank',\n",
       "               'centralesupelec',                  'coding',\n",
       "                         'email',           'entertainment',\n",
       "                          'food',                  'google',\n",
       "            'offers_newsletters',          'online_courses',\n",
       "               'online_shopping',                   'other',\n",
       "                  'social_media',               'softwares',\n",
       "                        'travel', 'chars_in_subject_binned',\n",
       "                   'urls_binned',           'multipart/idm'],\n",
       "      dtype='object')"
      ]
     },
     "execution_count": 9,
     "metadata": {},
     "output_type": "execute_result"
    }
   ],
   "source": [
    "test_df.columns"
   ]
  },
  {
   "cell_type": "code",
   "execution_count": 10,
   "metadata": {},
   "outputs": [],
   "source": [
    "# select columns / split into x and y \n",
    "X_train = train_df[train_df.columns.difference(['label', 'date', 'org', 'tld', 'time_zone', 'date_time', 'time', 'mail_type', 'chars_in_subject', 'urls', 'weekday'])]\n",
    "y_train = train_df['label']\n",
    "\n",
    "test_df['multipart/idm'] = 0\n",
    "test_df['porn'] = 0\n",
    "X_test = test_df[test_df.columns.difference(['label', 'date', 'org', 'tld','time_zone', 'date_time', 'time', 'mail_type', 'chars_in_subject', 'urls', 'weekday'])]\n"
   ]
  },
  {
   "cell_type": "code",
   "execution_count": 11,
   "metadata": {},
   "outputs": [
    {
     "data": {
      "text/plain": [
       "RandomForestClassifier(bootstrap=True, class_weight=None, criterion='gini',\n",
       "            max_depth=None, max_features='auto', max_leaf_nodes=None,\n",
       "            min_impurity_decrease=0.0, min_impurity_split=None,\n",
       "            min_samples_leaf=1, min_samples_split=2,\n",
       "            min_weight_fraction_leaf=0.0, n_estimators=100, n_jobs=1,\n",
       "            oob_score=False, random_state=None, verbose=0,\n",
       "            warm_start=False)"
      ]
     },
     "execution_count": 11,
     "metadata": {},
     "output_type": "execute_result"
    }
   ],
   "source": [
    "# define classifier \n",
    "clf = RandomForestClassifier(n_estimators=100)\n",
    "clf.fit(X_train,y_train)"
   ]
  },
  {
   "cell_type": "code",
   "execution_count": 12,
   "metadata": {},
   "outputs": [
    {
     "data": {
      "text/plain": [
       "0.9226245668581587"
      ]
     },
     "execution_count": 12,
     "metadata": {},
     "output_type": "execute_result"
    }
   ],
   "source": [
    "# predict \n",
    "y_pred = clf.predict(X_test)\n",
    "result_rf = cross_val_score(clf, X_train, y_train, cv=5)\n",
    "result_rf.mean()"
   ]
  },
  {
   "cell_type": "code",
   "execution_count": 16,
   "metadata": {},
   "outputs": [
    {
     "name": "stdout",
     "output_type": "stream",
     "text": [
      "[5.77211339e-03 5.45575042e-03 5.09869964e-03 5.29505993e-03\n",
      " 5.52768411e-03 4.03029908e-03 3.55294829e-03 3.73819684e-02\n",
      " 1.34979928e-01 6.24044278e-04 5.31738485e-05 5.03890962e-02\n",
      " 1.04433546e-02 1.11171892e-01 3.09167617e-02 1.14672981e-02\n",
      " 3.32468631e-02 8.99830504e-03 6.92540847e-03 2.95499553e-03\n",
      " 6.89277961e-04 1.29093214e-02 9.62766547e-02 3.15766885e-02\n",
      " 1.28969619e-02 2.51023469e-06 7.70212588e-03 1.45486701e-03\n",
      " 2.74154489e-02 1.59633241e-02 1.39354388e-02 3.18608975e-02\n",
      " 6.85653138e-05 1.95986833e-02 8.13582710e-02 1.50289004e-03\n",
      " 1.10160765e-02 2.40515787e-03 6.98668618e-04 6.41928706e-02\n",
      " 9.21896551e-02]\n"
     ]
    },
    {
     "data": {
      "image/png": "[encoded data removed]",
      "text/plain": [
       "<matplotlib.figure.Figure at 0x7f36e8663208>"
      ]
     },
     "metadata": {
      "needs_background": "light"
     },
     "output_type": "display_data"
    }
   ],
   "source": [
    "import matplotlib.pyplot as plt\n",
    "\n",
    "print(clf.feature_importances_) #use inbuilt class feature_importances of tree based classifiers\n",
    "#plot graph of feature importances for better visualization\n",
    "feat_importances = pd.Series(clf.feature_importances_, index=X_train.columns)\n",
    "feat_importances.nlargest(20).plot(kind='barh')\n",
    "plt.show()"
   ]
  },
  {
   "cell_type": "code",
   "execution_count": 17,
   "metadata": {},
   "outputs": [],
   "source": [
    "\n",
    "\n",
    "write_out(y_pred)\n"
   ]
  },
  {
   "cell_type": "code",
   "execution_count": null,
   "metadata": {},
   "outputs": [],
   "source": []
  }
 ],
 "metadata": {
  "kernelspec": {
   "display_name": "Python 3",
   "language": "python",
   "name": "python3"
  },
  "language_info": {
   "codemirror_mode": {
    "name": "ipython",
    "version": 3
   },
   "file_extension": ".py",
   "mimetype": "text/x-python",
   "name": "python",
   "nbconvert_exporter": "python",
   "pygments_lexer": "ipython3",
   "version": "3.6.8"
  }
 },
 "nbformat": 4,
 "nbformat_minor": 2
}
