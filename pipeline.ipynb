{
 "cells": [
  {
   "cell_type": "code",
   "execution_count": 1,
   "metadata": {},
   "outputs": [
    {
     "name": "stderr",
     "output_type": "stream",
     "text": [
      "/usr/lib/python3/dist-packages/sklearn/ensemble/weight_boosting.py:29: DeprecationWarning: numpy.core.umath_tests is an internal NumPy module and should not be imported. It will be removed in a future NumPy release.\n",
      "  from numpy.core.umath_tests import inner1d\n"
     ]
    }
   ],
   "source": [
    "from feature_engineering import *\n",
    "\n",
    "from sklearn.ensemble import RandomForestClassifier, AdaBoostClassifier, GradientBoostingClassifier\n",
    "from sklearn.model_selection import cross_val_score\n",
    "from sklearn.model_selection import KFold\n",
    "from sklearn.svm import SVC\n",
    "from sklearn import tree\n",
    "\n",
    "import matplotlib.pyplot as plt"
   ]
  },
  {
   "cell_type": "code",
   "execution_count": 2,
   "metadata": {},
   "outputs": [],
   "source": [
    "# read data in and write out data\n",
    "data_dir = './data/'\n",
    "train_df = pd.read_csv(data_dir + 'train.csv')\n",
    "test_df = pd.read_csv(data_dir + 'test.csv')\n",
    "\n",
    "# writing out to results file\n",
    "def write_out(predictions):\n",
    "    df_results = pd.DataFrame(predictions, columns=['label'])\n",
    "    df_results.index.names = ['ID']\n",
    "    df_results.to_csv(data_dir + 'results.csv')"
   ]
  },
  {
   "cell_type": "code",
   "execution_count": 3,
   "metadata": {},
   "outputs": [],
   "source": [
    "# do feature engineering\n",
    "train_df = date_features(train_df)\n",
    "train_df = mail_features(train_df)\n",
    "train_df = org_features(train_df)\n",
    "train_df = chars_in_subject_features(train_df)\n",
    "train_df = urls_features(train_df)\n",
    "train_df = tld_features(train_df)\n",
    "train_df = salutation_designation_features(train_df)\n",
    "train_df = image_features(train_df)\n",
    "\n",
    "test_df = date_features(test_df)\n",
    "test_df = mail_features(test_df)\n",
    "test_df = org_features(test_df)\n",
    "test_df = chars_in_subject_features(test_df)\n",
    "test_df = urls_features(test_df)\n",
    "test_df = tld_features(test_df)\n",
    "test_df = salutation_designation_features(test_df)\n",
    "test_df = image_features(test_df)"
   ]
  },
  {
   "cell_type": "code",
   "execution_count": 4,
   "metadata": {},
   "outputs": [
    {
     "name": "stdout",
     "output_type": "stream",
     "text": [
      "{'label', 'idm', 'porn'}\n",
      "set()\n"
     ]
    },
    {
     "data": {
      "text/plain": [
       "Index(['Unnamed: 0', 'date', 'org', 'tld', 'ccs', 'bcced', 'mail_type',\n",
       "       'images', 'urls', 'salutations', 'designation', 'chars_in_subject',\n",
       "       'chars_in_body', 'date_time', 'time', 'time_zone', 'year', 'month',\n",
       "       'day', 'weekday', 'weekend', 'work_day', 'mail_type_0', 'mail_type_1',\n",
       "       'multipart', 'text', 'alternative', 'html', 'mixed', 'plain', 'related',\n",
       "       'academia', 'bank', 'centralesupelec', 'coding', 'email',\n",
       "       'entertainment', 'food', 'google', 'offers_newsletters',\n",
       "       'online_courses', 'online_shopping', 'other', 'social_media',\n",
       "       'softwares', 'travel', 'chars_in_subject_binned', 'urls_binned',\n",
       "       'sals+designation', 'average_images', 'many_images', 'no_images',\n",
       "       'very_few_images'],\n",
       "      dtype='object')"
      ]
     },
     "execution_count": 4,
     "metadata": {},
     "output_type": "execute_result"
    }
   ],
   "source": [
    "print(set(train_df.columns) - set(test_df.columns))\n",
    "print(set(test_df.columns) - set(train_df.columns))\n",
    "test_df.columns"
   ]
  },
  {
   "cell_type": "code",
   "execution_count": 23,
   "metadata": {},
   "outputs": [],
   "source": [
    "# select columns / split into x and y \n",
    "X_train = train_df[train_df.columns.difference(['multipart', 'mail_type_1', 'mail_type_0', 'images', 'salutations', 'designation', 'Unnamed: 0', 'label', 'date', 'org', 'tld', 'time_zone', 'date_time', 'time', 'mail_type', 'chars_in_subject', 'urls', 'weekday'])]\n",
    "y_train = train_df['label']\n",
    "\n",
    "test_df['idm'] = 0\n",
    "test_df['porn'] = 0\n",
    "X_test = test_df[test_df.columns.difference(['multipart', 'mail_type_1', 'mail_type_0', 'images', 'salutations', 'designation', 'Unnamed: 0', 'label', 'date', 'org', 'tld','time_zone', 'date_time', 'time', 'mail_type', 'chars_in_subject', 'urls', 'weekday'])]\n"
   ]
  },
  {
   "cell_type": "code",
   "execution_count": null,
   "metadata": {},
   "outputs": [],
   "source": []
  },
  {
   "cell_type": "code",
   "execution_count": 24,
   "metadata": {},
   "outputs": [
    {
     "data": {
      "text/plain": [
       "RandomForestClassifier(bootstrap=True, class_weight=None, criterion='gini',\n",
       "            max_depth=None, max_features='auto', max_leaf_nodes=None,\n",
       "            min_impurity_decrease=0.0, min_impurity_split=None,\n",
       "            min_samples_leaf=1, min_samples_split=2,\n",
       "            min_weight_fraction_leaf=0.0, n_estimators=100, n_jobs=1,\n",
       "            oob_score=False, random_state=None, verbose=0,\n",
       "            warm_start=False)"
      ]
     },
     "execution_count": 24,
     "metadata": {},
     "output_type": "execute_result"
    }
   ],
   "source": [
    "# define classifier \n",
    "clf = RandomForestClassifier(n_estimators=100)\n",
    "clf.fit(X_train,y_train)"
   ]
  },
  {
   "cell_type": "code",
   "execution_count": 25,
   "metadata": {},
   "outputs": [
    {
     "data": {
      "text/plain": [
       "0.9210546320160529"
      ]
     },
     "execution_count": 25,
     "metadata": {},
     "output_type": "execute_result"
    }
   ],
   "source": [
    "# predict \n",
    "y_pred = clf.predict(X_test)\n",
    "result_rf = cross_val_score(clf, X_train, y_train, cv=5)\n",
    "result_rf.mean()"
   ]
  },
  {
   "cell_type": "code",
   "execution_count": 26,
   "metadata": {},
   "outputs": [],
   "source": [
    "def show_feature_importance(classifier, training_data, top = 20) :\n",
    "    #print(clf.feature_importances_) #use inbuilt class feature_importances of tree based classifiers\n",
    "    \n",
    "    #plot graph of feature importances for better visualization\n",
    "    feat_importances = pd.Series(classifier.feature_importances_, index=training_data.columns)\n",
    "    feat_importances.nlargest(top).plot(kind='barh')\n",
    "    plt.show()"
   ]
  },
  {
   "cell_type": "code",
   "execution_count": 27,
   "metadata": {},
   "outputs": [
    {
     "data": {
      "image/png": "[encoded data removed]",
      "text/plain": [
       "<matplotlib.figure.Figure at 0x7f0e5dd6feb8>"
      ]
     },
     "metadata": {
      "needs_background": "light"
     },
     "output_type": "display_data"
    }
   ],
   "source": [
    "show_feature_importance(clf, X_train, 30)\n",
    "\n"
   ]
  },
  {
   "cell_type": "code",
   "execution_count": 28,
   "metadata": {},
   "outputs": [],
   "source": [
    "write_out(y_pred)"
   ]
  },
  {
   "cell_type": "code",
   "execution_count": null,
   "metadata": {},
   "outputs": [],
   "source": []
  }
 ],
 "metadata": {
  "kernelspec": {
   "display_name": "Python 3",
   "language": "python",
   "name": "python3"
  },
  "language_info": {
   "codemirror_mode": {
    "name": "ipython",
    "version": 3
   },
   "file_extension": ".py",
   "mimetype": "text/x-python",
   "name": "python",
   "nbconvert_exporter": "python",
   "pygments_lexer": "ipython3",
   "version": "3.6.8"
  }
 },
 "nbformat": 4,
 "nbformat_minor": 2
}
