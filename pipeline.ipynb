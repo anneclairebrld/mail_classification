{
 "cells": [
  {
   "cell_type": "code",
   "execution_count": 49,
   "metadata": {},
   "outputs": [],
   "source": [
    "from feature_engineering import *\n",
    "\n",
    "from sklearn.ensemble import RandomForestClassifier, AdaBoostClassifier, GradientBoostingClassifier\n",
    "from sklearn.neighbors import KNeighborsClassifier\n",
    "from sklearn.neighbors import KNeighborsClassifier\n",
    "from sklearn.model_selection import cross_val_score\n",
    "from sklearn.model_selection import KFold\n",
    "from sklearn.svm import SVC\n",
    "from sklearn import tree\n",
    "from sklearn.metrics import accuracy_score, precision_score, recall_score \n",
    "from sklearn.metrics import make_scorer\n",
    "from sklearn.metrics import accuracy_score\n",
    "from sklearn.model_selection import GridSearchCV\n",
    "import matplotlib.pyplot as plt"
   ]
  },
  {
   "cell_type": "code",
   "execution_count": 42,
   "metadata": {},
   "outputs": [],
   "source": [
    "# read data in and write out data\n",
    "data_dir = './data/'\n",
    "train_df = pd.read_csv(data_dir + 'train.csv')\n",
    "test_df = pd.read_csv(data_dir + 'test.csv')\n",
    "\n",
    "# writing out to results file\n",
    "def write_out(predictions):\n",
    "    df_results = pd.DataFrame(predictions, columns=['label'])\n",
    "    df_results.index.names = ['ID']\n",
    "    df_results.to_csv(data_dir + 'results.csv')"
   ]
  },
  {
   "cell_type": "code",
   "execution_count": 43,
   "metadata": {},
   "outputs": [],
   "source": [
    "# do feature engineering\n",
    "train_df = date_features(train_df)\n",
    "train_df = mail_features(train_df)\n",
    "train_df = org_features(train_df)\n",
    "train_df = chars_in_subject_features(train_df)\n",
    "train_df = chars_in_body_features(train_df)\n",
    "train_df = urls_features(train_df)\n",
    "train_df = tld_features(train_df)\n",
    "train_df = salutation_designation_features(train_df)\n",
    "train_df = image_features(train_df)\n",
    "train_df = hour_features(train_df)\n",
    "train_df = day_features(train_df)\n",
    "train_df = month_features(train_df)\n",
    "\n",
    "test_df = date_features(test_df)\n",
    "test_df = mail_features(test_df)\n",
    "test_df = org_features(test_df)\n",
    "test_df = chars_in_subject_features(test_df)\n",
    "test_df = chars_in_body_features(test_df)\n",
    "test_df = urls_features(test_df)\n",
    "test_df = tld_features(test_df)\n",
    "test_df = salutation_designation_features(test_df)\n",
    "test_df = image_features(test_df)\n",
    "test_df = hour_features(test_df)\n",
    "test_df = day_features(test_df) \n",
    "test_df = month_features(test_df) "
   ]
  },
  {
   "cell_type": "code",
   "execution_count": 44,
   "metadata": {},
   "outputs": [
    {
     "name": "stdout",
     "output_type": "stream",
     "text": [
      "{'-2018', '+0700', 'idm', 'label', '+0545', 'net'}\n",
      "set()\n"
     ]
    },
    {
     "data": {
      "text/plain": [
       "Index(['Unnamed: 0', 'org', 'tld', 'ccs', 'bcced', 'salutations',\n",
       "       'designation', 'chars_in_subject', 'chars_in_body', 'label',\n",
       "       'time_zone', 'month', 'day', '+0000', '+0100', '+0200', '+0300',\n",
       "       '+0400', '+0530', '+0545', '+0580', '+0700', '+0800', '+1000', '+1100',\n",
       "       '-0000', '-0400', '-0500', '-0600', '-0700', '-0800', '-2018',\n",
       "       'multipart', 'text', 'alternative', 'html', 'idm', 'mixed', 'plain',\n",
       "       'related', 'frequent_org', 'often_org', 'rare_org', 'superfrequent_org',\n",
       "       'unspecified_org', 'usually_org', 'chars_in_subject_binned',\n",
       "       'urls_binned', '.com', '.fr', '.in', '.org', 'net', 'rare_tld',\n",
       "       'unspecified', 'sals+designation', 'average_images', 'many_images',\n",
       "       'no_images', 'very_few_images', 'early_morning_hours', 'evening_hours',\n",
       "       'work_hours', 'weekday_flag', 'month2', '10', '2', '3', '4', '5', '6',\n",
       "       '7', '8', '9', 'concave'],\n",
       "      dtype='object')"
      ]
     },
     "execution_count": 44,
     "metadata": {},
     "output_type": "execute_result"
    }
   ],
   "source": [
    "print(set(train_df.columns) - set(test_df.columns))\n",
    "print(set(test_df.columns) - set(train_df.columns))\n",
    "test_df.columns\n",
    "train_df.columns"
   ]
  },
  {
   "cell_type": "code",
   "execution_count": 45,
   "metadata": {},
   "outputs": [],
   "source": [
    "# select columns / split into x and y \n",
    "ignore_cols = ['label', 'Unnamed: 0', 'multipart', 'mail_type_1', 'mail_type_0', \n",
    "              'sals+designation', 'time_zone', 'tld',  'idm', 'porn', \n",
    "              '-2018', '+0545', 'hour' '-2018', 'idm', '+0700', 'porn', 'label', '+0545', \n",
    "              'chars_in_subject_binned', 'org',  'net', 'concave', 'convex', 'incremental', 'month2']\n",
    "\n",
    "\n",
    "X_train = train_df[train_df.columns.difference(ignore_cols)]\n",
    "y_train = train_df['label']\n",
    "\n",
    "X_test = test_df[test_df.columns.difference(ignore_cols)]\n"
   ]
  },
  {
   "cell_type": "code",
   "execution_count": 46,
   "metadata": {},
   "outputs": [
    {
     "data": {
      "text/plain": [
       "Index(['+0000', '+0100', '+0200', '+0300', '+0400', '+0530', '+0580', '+0800',\n",
       "       '+1000', '+1100', '-0000', '-0400', '-0500', '-0600', '-0700', '-0800',\n",
       "       '.com', '.fr', '.in', '.org', '10', '2', '3', '4', '5', '6', '7', '8',\n",
       "       '9', 'alternative', 'average_images', 'bcced', 'ccs', 'chars_in_body',\n",
       "       'chars_in_subject', 'day', 'designation', 'early_morning_hours',\n",
       "       'evening_hours', 'frequent_org', 'html', 'many_images', 'mixed',\n",
       "       'month', 'no_images', 'often_org', 'plain', 'rare_org', 'rare_tld',\n",
       "       'related', 'salutations', 'superfrequent_org', 'text', 'unspecified',\n",
       "       'unspecified_org', 'urls_binned', 'usually_org', 'very_few_images',\n",
       "       'weekday_flag', 'work_hours'],\n",
       "      dtype='object')"
      ]
     },
     "execution_count": 46,
     "metadata": {},
     "output_type": "execute_result"
    }
   ],
   "source": [
    "# final features \n",
    "X_train.columns"
   ]
  },
  {
   "cell_type": "markdown",
   "metadata": {},
   "source": [
    "### Training and predicting using random forest"
   ]
  },
  {
   "cell_type": "code",
   "execution_count": 7,
   "metadata": {},
   "outputs": [
    {
     "data": {
      "text/plain": [
       "RandomForestClassifier(bootstrap=True, class_weight=None, criterion='gini',\n",
       "            max_depth=80, max_features='auto', max_leaf_nodes=None,\n",
       "            min_impurity_decrease=0.0, min_impurity_split=None,\n",
       "            min_samples_leaf=1, min_samples_split=2,\n",
       "            min_weight_fraction_leaf=0.0, n_estimators=120, n_jobs=1,\n",
       "            oob_score=False, random_state=None, verbose=0,\n",
       "            warm_start=False)"
      ]
     },
     "execution_count": 7,
     "metadata": {},
     "output_type": "execute_result"
    }
   ],
   "source": [
    "# define classifier \n",
    "clf = RandomForestClassifier(n_estimators=120, max_depth=80)\n",
    "clf.fit(X_train,y_train)"
   ]
  },
  {
   "cell_type": "code",
   "execution_count": 8,
   "metadata": {},
   "outputs": [
    {
     "data": {
      "text/plain": [
       "0.9175115880833624"
      ]
     },
     "execution_count": 8,
     "metadata": {},
     "output_type": "execute_result"
    }
   ],
   "source": [
    "# predict \n",
    "y_pred = clf.predict(X_test)\n",
    "result_rf = cross_val_score(clf, X_train, y_train, cv=10)\n",
    "result_rf.mean()"
   ]
  },
  {
   "cell_type": "code",
   "execution_count": 9,
   "metadata": {},
   "outputs": [],
   "source": [
    "def show_feature_importance(classifier, training_data, top = 20) :\n",
    "    #print(clf.feature_importances_) #use inbuilt class feature_importances of tree based classifiers\n",
    "    \n",
    "    #plot graph of feature importances for better visualization\n",
    "    feat_importances = pd.Series(classifier.feature_importances_, index=training_data.columns)\n",
    "    feat_importances.nlargest(top).plot(kind='barh')\n",
    "    plt.show()"
   ]
  },
  {
   "cell_type": "code",
   "execution_count": 10,
   "metadata": {},
   "outputs": [
    {
     "data": {
      "image/png": "[encoded data removed]",
      "text/plain": [
       "<matplotlib.figure.Figure at 0x7f5970708128>"
      ]
     },
     "metadata": {
      "needs_background": "light"
     },
     "output_type": "display_data"
    }
   ],
   "source": [
    "show_feature_importance(clf, X_train, 30)"
   ]
  },
  {
   "cell_type": "code",
   "execution_count": 11,
   "metadata": {},
   "outputs": [],
   "source": [
    "write_out(y_pred)"
   ]
  },
  {
   "cell_type": "markdown",
   "metadata": {},
   "source": [
    "### Grabbing the features that determine 95 % of our model (can help with overfitting?)"
   ]
  },
  {
   "cell_type": "code",
   "execution_count": 12,
   "metadata": {},
   "outputs": [
    {
     "name": "stdout",
     "output_type": "stream",
     "text": [
      "[('chars_in_body', 0.12), ('superfrequent_org', 0.09), ('usually_org', 0.09), ('chars_in_subject', 0.07), ('urls_binned', 0.07), ('.in', 0.05), ('ccs', 0.05), ('rare_org', 0.05), ('+0530', 0.04), ('day', 0.04), ('.com', 0.03), ('no_images', 0.03), ('+0000', 0.02), ('frequent_org', 0.02), ('month', 0.02), ('salutations', 0.02), ('-0700', 0.01), ('.fr', 0.01), ('.org', 0.01), ('4', 0.01), ('alternative', 0.01), ('average_images', 0.01), ('designation', 0.01), ('early_morning_hours', 0.01), ('evening_hours', 0.01), ('html', 0.01), ('mixed', 0.01), ('often_org', 0.01), ('text', 0.01), ('unspecified', 0.01), ('unspecified_org', 0.01), ('very_few_images', 0.01), ('work_hours', 0.01), ('+0100', 0.0), ('+0200', 0.0), ('+0300', 0.0), ('+0400', 0.0), ('+0580', 0.0), ('+0800', 0.0), ('+1000', 0.0), ('+1100', 0.0), ('-0000', 0.0), ('-0400', 0.0), ('-0500', 0.0), ('-0600', 0.0), ('-0800', 0.0), ('10', 0.0), ('2', 0.0), ('3', 0.0), ('5', 0.0), ('6', 0.0), ('7', 0.0), ('8', 0.0), ('9', 0.0), ('bcced', 0.0), ('many_images', 0.0), ('plain', 0.0), ('rare_tld', 0.0), ('related', 0.0), ('weekday_flag', 0.0)]\n"
     ]
    },
    {
     "data": {
      "text/plain": [
       "Text(0.5,1,'Cumulative Importances')"
      ]
     },
     "execution_count": 12,
     "metadata": {},
     "output_type": "execute_result"
    },
    {
     "data": {
      "image/png": "[encoded data removed]",
      "text/plain": [
       "<matplotlib.figure.Figure at 0x7f597064ebe0>"
      ]
     },
     "metadata": {
      "needs_background": "light"
     },
     "output_type": "display_data"
    }
   ],
   "source": [
    "# Get cumulative importance of features -> helps to know which ones we should kill\n",
    "import operator\n",
    "# List of features sorted from most to least important\n",
    "feature_list = list(X_train.columns)# Get numerical feature importances\n",
    "plt.figure(figsize=(8,8))\n",
    "importances = list(clf.feature_importances_) # List of tuples with variable and importance\n",
    "feature_importances =  [(feature, round(importance, 2)) for feature, importance in zip(feature_list, importances)]\n",
    "x_values = list(range(len(importances)))\n",
    "feature_importances.sort(key = operator.itemgetter(1),  reverse = True)\n",
    "print(feature_importances)\n",
    "\n",
    "sorted_importances = [importance[1] for importance in feature_importances]\n",
    "\n",
    "sorted_features = [importance[0] for importance in feature_importances]# Cumulative importances\n",
    "cumulative_importances = np.cumsum(sorted_importances)# Make a line graph\n",
    "\n",
    "plt.plot(x_values, cumulative_importances, 'g-')# Draw line at 95% of importance retained\n",
    "plt.hlines(y = 0.95, xmin=0, xmax=len(sorted_importances), color = 'r', linestyles = 'dashed')# Format x ticks and labels\n",
    "plt.xticks(x_values, sorted_features, rotation = 'vertical')# Axis labels and title\n",
    "plt.xlabel('Variable'); plt.ylabel('Cumulative Importance'); plt.title('Cumulative Importances')"
   ]
  },
  {
   "cell_type": "code",
   "execution_count": 13,
   "metadata": {
    "scrolled": true
   },
   "outputs": [
    {
     "name": "stdout",
     "output_type": "stream",
     "text": [
      "Number of features for 95% importance: 30\n",
      "Important train features shape: (24840, 30)\n",
      "Important test features shape: (10647, 30)\n"
     ]
    }
   ],
   "source": [
    "## keep 95 % of the features to avoid overfitting and generate an output \n",
    "\n",
    "print('Number of features for 95% importance:', np.where(cumulative_importances > 0.95)[0][0] + 1)\n",
    "number_imp_features = np.where(cumulative_importances > 0.95)[0][0] + 1\n",
    "# Extract the names of the most important features\n",
    "important_feature_names = [feature[0] for feature in feature_importances[0:number_imp_features]]\n",
    "# Find the columns of the most important features\n",
    "important_indices = [feature_list.index(feature) for feature in important_feature_names]\n",
    "# Create training and testing sets with only the important features\n",
    "important_train_features = X_train[important_feature_names]\n",
    "important_test_features = X_test[important_feature_names]\n",
    "\n",
    "# Sanity check on operations\n",
    "print('Important train features shape:', important_train_features.shape)\n",
    "print('Important test features shape:', important_test_features.shape)"
   ]
  },
  {
   "cell_type": "code",
   "execution_count": 14,
   "metadata": {},
   "outputs": [
    {
     "data": {
      "text/plain": [
       "RandomForestClassifier(bootstrap=True, class_weight=None, criterion='gini',\n",
       "            max_depth=80, max_features='auto', max_leaf_nodes=None,\n",
       "            min_impurity_decrease=0.0, min_impurity_split=None,\n",
       "            min_samples_leaf=1, min_samples_split=2,\n",
       "            min_weight_fraction_leaf=0.0, n_estimators=120, n_jobs=1,\n",
       "            oob_score=False, random_state=None, verbose=0,\n",
       "            warm_start=False)"
      ]
     },
     "execution_count": 14,
     "metadata": {},
     "output_type": "execute_result"
    }
   ],
   "source": [
    "clf = RandomForestClassifier(n_estimators=120, max_depth=80)\n",
    "clf.fit(important_train_features,y_train)"
   ]
  },
  {
   "cell_type": "code",
   "execution_count": 15,
   "metadata": {},
   "outputs": [
    {
     "data": {
      "text/plain": [
       "0.9168676091992956"
      ]
     },
     "execution_count": 15,
     "metadata": {},
     "output_type": "execute_result"
    }
   ],
   "source": [
    "y_pred = clf.predict(important_test_features)\n",
    "result_rf = cross_val_score(clf, important_train_features, y_train, cv=5)\n",
    "result_rf.mean()"
   ]
  },
  {
   "cell_type": "code",
   "execution_count": 16,
   "metadata": {},
   "outputs": [],
   "source": [
    "write_out(y_pred)"
   ]
  },
  {
   "cell_type": "markdown",
   "metadata": {},
   "source": [
    "### Getting various scores for the different models"
   ]
  },
  {
   "cell_type": "code",
   "execution_count": null,
   "metadata": {},
   "outputs": [
    {
     "name": "stdout",
     "output_type": "stream",
     "text": [
      "Knn\n",
      "\n",
      "Mean Accuracy: 0.8013675964705037\n",
      "\n",
      "Mean Precision: 0.8147036536733083\n",
      "\n",
      "Mean Recall: 0.8088269161432716\n",
      "RandomForest\n",
      "\n",
      "Mean Accuracy: 0.9170288853630904\n",
      "\n",
      "Mean Precision: 0.9279455363157979\n",
      "\n",
      "Mean Recall: 0.9246651827857584\n",
      "Cart\n",
      "\n",
      "Mean Accuracy: 0.8810782141741269\n",
      "\n",
      "Mean Precision: 0.8952894012154727\n",
      "\n",
      "Mean Recall: 0.8940493564675869\n",
      "SVM\n"
     ]
    }
   ],
   "source": [
    "def accuracy_scorer(estimator, x, y):\n",
    "    yPred = estimator.predict(x)\n",
    "    score = accuracy_score(y, yPred)\n",
    "    #print('Acc: ', score)\n",
    "    return score\n",
    "\n",
    "def precision_scorer(estimator, x, y):\n",
    "    yPred = estimator.predict(x)\n",
    "    score = precision_score(y, yPred, average='macro')\n",
    "    #print('Precision: ', score)\n",
    "    return score\n",
    "\n",
    "def recall_scorer(estimator, x, y):\n",
    "    yPred = estimator.predict(x)\n",
    "    acc = recall_score(y, yPred, average='macro')\n",
    "    #print('Recall: ', acc)\n",
    "    return acc\n",
    "\n",
    "models = [KNeighborsClassifier(n_neighbors=3), RandomForestClassifier(n_estimators=120, max_depth=80), tree.DecisionTreeClassifier(), SVC(gamma='auto') ]\n",
    "names = ['Knn', 'RandomForest', 'Cart', 'SVM']\n",
    "for model, name in zip(models, names):\n",
    "    print(name)\n",
    "    acc = cross_val_score(model, X_train, y_train, scoring = accuracy_scorer, cv=10).mean()\n",
    "    precision = cross_val_score(model, X_train, y_train, scoring = precision_scorer, cv=10).mean()\n",
    "    recall = cross_val_score(model, X_train, y_train, scoring = recall_scorer, cv=10).mean()\n",
    "    \n",
    "    print('\\nMean Accuracy:', acc)\n",
    "    print('\\nMean Precision:', precision)\n",
    "    print('\\nMean Recall:', recall)\n",
    "    "
   ]
  },
  {
   "cell_type": "code",
   "execution_count": null,
   "metadata": {},
   "outputs": [],
   "source": []
  }
 ],
 "metadata": {
  "kernelspec": {
   "display_name": "Python 3",
   "language": "python",
   "name": "python3"
  },
  "language_info": {
   "codemirror_mode": {
    "name": "ipython",
    "version": 3
   },
   "file_extension": ".py",
   "mimetype": "text/x-python",
   "name": "python",
   "nbconvert_exporter": "python",
   "pygments_lexer": "ipython3",
   "version": "3.7.3"
  }
 },
 "nbformat": 4,
 "nbformat_minor": 2
}
