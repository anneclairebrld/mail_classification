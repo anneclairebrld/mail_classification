{
 "cells": [
  {
   "cell_type": "code",
   "execution_count": 2,
   "metadata": {},
   "outputs": [],
   "source": [
    "#train data Preprocessing \n",
    "\n",
    "import pandas as pd\n",
    "pd.options.display.max_columns = 100\n",
    "fpath = './Data/train.csv'\n",
    "train = pd.read_csv(fpath)\n",
    "\n",
    "#test data Preprocessing\n",
    "import pandas as pd\n",
    "pd.options.display.max_columns = 100\n",
    "fpath = './Data/test.csv'\n",
    "test = pd.read_csv(fpath)\n"
   ]
  },
  {
   "cell_type": "code",
   "execution_count": 86,
   "metadata": {},
   "outputs": [
    {
     "name": "stdout",
     "output_type": "stream",
     "text": [
      "<class 'pandas.core.frame.DataFrame'>\n",
      "RangeIndex: 24840 entries, 0 to 24839\n",
      "Data columns (total 14 columns):\n",
      "Unnamed: 0          24840 non-null int64\n",
      "date                24840 non-null object\n",
      "org                 23563 non-null object\n",
      "tld                 23563 non-null object\n",
      "ccs                 24840 non-null int64\n",
      "bcced               24840 non-null int64\n",
      "mail_type           24769 non-null object\n",
      "images              24840 non-null int64\n",
      "urls                24840 non-null int64\n",
      "salutations         24840 non-null int64\n",
      "designation         24840 non-null int64\n",
      "chars_in_subject    24840 non-null int64\n",
      "chars_in_body       24840 non-null int64\n",
      "label               24840 non-null int64\n",
      "dtypes: int64(10), object(4)\n",
      "memory usage: 2.7+ MB\n"
     ]
    }
   ],
   "source": [
    "train.info()"
   ]
  },
  {
   "cell_type": "code",
   "execution_count": 4,
   "metadata": {},
   "outputs": [],
   "source": [
    "#Split the target variables into the training variables and the label\n",
    "\n",
    "\n",
    "df = train.iloc[:,1:14]    # the training variables data frame\n",
    "\n",
    "# note train is a pandas data frame so we select columns from it using     .loc\n",
    "\n",
    "label = train.iloc[:,-1]    #the labels\n",
    "\n",
    "\n",
    "#*******NOTE - here, we have dropped the first column beacuse it was just the serial number\n",
    "\n",
    "# same operation for the test data, we drop the first variable\n",
    "\n",
    "df2 = test.iloc[:,1:13]\n"
   ]
  },
  {
   "cell_type": "code",
   "execution_count": 25,
   "metadata": {},
   "outputs": [],
   "source": [
    "# #Clean the timezone stamps form the date column\n",
    "\n",
    "#the below code make the date column ready for extraction by the \n",
    "\n",
    "from dateutil import parser\n",
    "import bisect\n",
    "\n",
    "for x in df['date']:\n",
    "    if '(GMT+' in x :\n",
    "        df = df.replace({'date': {x: x.split(\n",
    "            '(')[0]}})\n",
    "\n",
    "        \n",
    "df['date']=pd.to_datetime(df['date'], utc = True)\n",
    "\n",
    "df['date'] = pd.to_datetime(df['date'])\n",
    "\n",
    "# ## this is the code for parsing, we can use this as well, but is very case specfic and does not work in every case. \n",
    "# # for ex - it did not work in this case.\n",
    "\n",
    "# df['date'] = df['date'].str.replace(r' .*.∗', '')\n",
    "# df['date'] = df['date'].str.rstrip()\n",
    "# df['date'] = df['date'].str.replace('-0000', '+0000')\n",
    "# df['date'] = df['date'].str.replace('0580', '0530')\n",
    "# df['date'] = df['date'].apply(dateparser.parse, languages=['en'])\n",
    "\n",
    "# # the below code extracts the time, year, monthe etc from the cleansed date and everythig is an Int64 so it is fine.\n",
    "\n",
    "df['year'] = df['date'].apply(lambda x:x.year)\n",
    "df['month'] = df['date'].apply(lambda x:x.month)\n",
    "df['day'] = df['date'].apply(lambda x:x.day)\n",
    "df['hour'] = df['date'].apply(lambda x:x.hour)\n",
    "df['minute'] = df['date'].apply(lambda x:x.minute)\n",
    "df['second'] = df['date'].apply(lambda x:x.second)\n",
    "df['weekday'] = df['date'].apply(lambda x:x.weekday())\n",
    "\n",
    "\n",
    "\n",
    "#--------- PARSING FROM THE TEST DATA --------------------\n",
    "\n",
    "from dateutil import parser\n",
    "import bisect\n",
    "\n",
    "for x in df2['date']:\n",
    "    if '(GMT+' in x :\n",
    "        df2 = df2.replace({'date': {x: x.split(\n",
    "            '(')[0]}})\n",
    "\n",
    "        \n",
    "df2['date']=pd.to_datetime(df2['date'], utc = True)\n",
    "\n",
    "df2['date'] = pd.to_datetime(df2['date'])\n",
    "\n",
    "# ## this is the code for parsing, we can use this as well, but is very case specfic and does not work in every case. \n",
    "# # for ex - it did not work in this case.\n",
    "\n",
    "# df['date'] = df['date'].str.replace(r' .*.∗', '')\n",
    "# df['date'] = df['date'].str.rstrip()\n",
    "# df['date'] = df['date'].str.replace('-0000', '+0000')\n",
    "# df['date'] = df['date'].str.replace('0580', '0530')\n",
    "# df['date'] = df['date'].apply(dateparser.parse, languages=['en'])\n",
    "\n",
    "# # the below code extracts the time, year, monthe etc from the cleansed date and everythig is an Int64 so it is fine.\n",
    "\n",
    "df2['year'] = df2['date'].apply(lambda x:x.year)\n",
    "df2['month'] = df2['date'].apply(lambda x:x.month)\n",
    "df2['day'] = df2['date'].apply(lambda x:x.day)\n",
    "df2['hour'] = df2['date'].apply(lambda x:x.hour)\n",
    "df2['minute'] = df2['date'].apply(lambda x:x.minute)\n",
    "df2['second'] = df2['date'].apply(lambda x:x.second)\n",
    "df2['weekday'] = df2['date'].apply(lambda x:x.weekday())"
   ]
  },
  {
   "cell_type": "code",
   "execution_count": 89,
   "metadata": {},
   "outputs": [
    {
     "data": {
      "text/html": [
       "<div>\n",
       "<style scoped>\n",
       "    .dataframe tbody tr th:only-of-type {\n",
       "        vertical-align: middle;\n",
       "    }\n",
       "\n",
       "    .dataframe tbody tr th {\n",
       "        vertical-align: top;\n",
       "    }\n",
       "\n",
       "    .dataframe thead th {\n",
       "        text-align: right;\n",
       "    }\n",
       "</style>\n",
       "<table border=\"1\" class=\"dataframe\">\n",
       "  <thead>\n",
       "    <tr style=\"text-align: right;\">\n",
       "      <th></th>\n",
       "      <th>date</th>\n",
       "      <th>org</th>\n",
       "      <th>tld</th>\n",
       "      <th>ccs</th>\n",
       "      <th>bcced</th>\n",
       "      <th>mail_type</th>\n",
       "      <th>images</th>\n",
       "      <th>urls</th>\n",
       "      <th>salutations</th>\n",
       "      <th>designation</th>\n",
       "      <th>chars_in_subject</th>\n",
       "      <th>chars_in_body</th>\n",
       "      <th>label</th>\n",
       "      <th>year</th>\n",
       "      <th>month</th>\n",
       "      <th>day</th>\n",
       "      <th>hour</th>\n",
       "      <th>minute</th>\n",
       "      <th>second</th>\n",
       "      <th>weekday</th>\n",
       "    </tr>\n",
       "  </thead>\n",
       "  <tbody>\n",
       "    <tr>\n",
       "      <th>0</th>\n",
       "      <td>2016-08-28 00:17:44+00:00</td>\n",
       "      <td>amazon</td>\n",
       "      <td>in</td>\n",
       "      <td>0</td>\n",
       "      <td>0</td>\n",
       "      <td>multipart/mixed</td>\n",
       "      <td>0</td>\n",
       "      <td>0</td>\n",
       "      <td>0</td>\n",
       "      <td>0</td>\n",
       "      <td>102</td>\n",
       "      <td>4</td>\n",
       "      <td>3</td>\n",
       "      <td>2016</td>\n",
       "      <td>8</td>\n",
       "      <td>28</td>\n",
       "      <td>0</td>\n",
       "      <td>17</td>\n",
       "      <td>44</td>\n",
       "      <td>6</td>\n",
       "    </tr>\n",
       "    <tr>\n",
       "      <th>1</th>\n",
       "      <td>2016-06-13 07:17:24+00:00</td>\n",
       "      <td>linkedin</td>\n",
       "      <td>com</td>\n",
       "      <td>0</td>\n",
       "      <td>0</td>\n",
       "      <td>multipart/alternative</td>\n",
       "      <td>15</td>\n",
       "      <td>44</td>\n",
       "      <td>0</td>\n",
       "      <td>0</td>\n",
       "      <td>55</td>\n",
       "      <td>35444</td>\n",
       "      <td>1</td>\n",
       "      <td>2016</td>\n",
       "      <td>6</td>\n",
       "      <td>13</td>\n",
       "      <td>7</td>\n",
       "      <td>17</td>\n",
       "      <td>24</td>\n",
       "      <td>0</td>\n",
       "    </tr>\n",
       "    <tr>\n",
       "      <th>2</th>\n",
       "      <td>2017-11-21 13:03:34+00:00</td>\n",
       "      <td>quora</td>\n",
       "      <td>com</td>\n",
       "      <td>0</td>\n",
       "      <td>0</td>\n",
       "      <td>multipart/alternative</td>\n",
       "      <td>12</td>\n",
       "      <td>110</td>\n",
       "      <td>1</td>\n",
       "      <td>1</td>\n",
       "      <td>59</td>\n",
       "      <td>100770</td>\n",
       "      <td>1</td>\n",
       "      <td>2017</td>\n",
       "      <td>11</td>\n",
       "      <td>21</td>\n",
       "      <td>13</td>\n",
       "      <td>3</td>\n",
       "      <td>34</td>\n",
       "      <td>1</td>\n",
       "    </tr>\n",
       "    <tr>\n",
       "      <th>3</th>\n",
       "      <td>2016-08-03 06:52:52+00:00</td>\n",
       "      <td>iiitd</td>\n",
       "      <td>ac.in</td>\n",
       "      <td>0</td>\n",
       "      <td>0</td>\n",
       "      <td>multipart/alternative</td>\n",
       "      <td>0</td>\n",
       "      <td>0</td>\n",
       "      <td>0</td>\n",
       "      <td>0</td>\n",
       "      <td>8</td>\n",
       "      <td>117</td>\n",
       "      <td>2</td>\n",
       "      <td>2016</td>\n",
       "      <td>8</td>\n",
       "      <td>3</td>\n",
       "      <td>6</td>\n",
       "      <td>52</td>\n",
       "      <td>52</td>\n",
       "      <td>2</td>\n",
       "    </tr>\n",
       "    <tr>\n",
       "      <th>4</th>\n",
       "      <td>2019-02-14 09:37:30+00:00</td>\n",
       "      <td>mail</td>\n",
       "      <td>paypal.com</td>\n",
       "      <td>0</td>\n",
       "      <td>0</td>\n",
       "      <td>multipart/alternative</td>\n",
       "      <td>5</td>\n",
       "      <td>49</td>\n",
       "      <td>1</td>\n",
       "      <td>0</td>\n",
       "      <td>42</td>\n",
       "      <td>36472</td>\n",
       "      <td>3</td>\n",
       "      <td>2019</td>\n",
       "      <td>2</td>\n",
       "      <td>14</td>\n",
       "      <td>9</td>\n",
       "      <td>37</td>\n",
       "      <td>30</td>\n",
       "      <td>3</td>\n",
       "    </tr>\n",
       "  </tbody>\n",
       "</table>\n",
       "</div>"
      ],
      "text/plain": [
       "                       date       org         tld  ccs  bcced  \\\n",
       "0 2016-08-28 00:17:44+00:00    amazon          in    0      0   \n",
       "1 2016-06-13 07:17:24+00:00  linkedin         com    0      0   \n",
       "2 2017-11-21 13:03:34+00:00     quora         com    0      0   \n",
       "3 2016-08-03 06:52:52+00:00     iiitd       ac.in    0      0   \n",
       "4 2019-02-14 09:37:30+00:00      mail  paypal.com    0      0   \n",
       "\n",
       "               mail_type  images  urls  salutations  designation  \\\n",
       "0        multipart/mixed       0     0            0            0   \n",
       "1  multipart/alternative      15    44            0            0   \n",
       "2  multipart/alternative      12   110            1            1   \n",
       "3  multipart/alternative       0     0            0            0   \n",
       "4  multipart/alternative       5    49            1            0   \n",
       "\n",
       "   chars_in_subject  chars_in_body  label  year  month  day  hour  minute  \\\n",
       "0               102              4      3  2016      8   28     0      17   \n",
       "1                55          35444      1  2016      6   13     7      17   \n",
       "2                59         100770      1  2017     11   21    13       3   \n",
       "3                 8            117      2  2016      8    3     6      52   \n",
       "4                42          36472      3  2019      2   14     9      37   \n",
       "\n",
       "   second  weekday  \n",
       "0      44        6  \n",
       "1      24        0  \n",
       "2      34        1  \n",
       "3      52        2  \n",
       "4      30        3  "
      ]
     },
     "execution_count": 89,
     "metadata": {},
     "output_type": "execute_result"
    }
   ],
   "source": [
    "df.head()"
   ]
  },
  {
   "cell_type": "markdown",
   "metadata": {},
   "source": [
    "# Function to create a bucket for time and day\n",
    "## Approach 1 - working day Monday to Friday, 8 AM to 6 PM\n"
   ]
  },
  {
   "cell_type": "code",
   "execution_count": 26,
   "metadata": {},
   "outputs": [],
   "source": [
    "def flag_df(df):\n",
    "\n",
    "    if (8 <= df['hour'] <= 18) and (df['weekday'] <= 5):\n",
    "        return '1'\n",
    "    else:\n",
    "        return '0'\n",
    "\n",
    "df['work_flag'] = df.apply(flag_df, axis = 1)\n",
    "\n",
    "# that is how you do it, apply - lambda works on one condition in multiple cilumns but not on mutilple \n",
    "#conditions on multiple columns"
   ]
  },
  {
   "cell_type": "code",
   "execution_count": 27,
   "metadata": {},
   "outputs": [
    {
     "name": "stdout",
     "output_type": "stream",
     "text": [
      "<class 'pandas.core.frame.DataFrame'>\n",
      "RangeIndex: 24840 entries, 0 to 24839\n",
      "Data columns (total 22 columns):\n",
      "date                       24840 non-null datetime64[ns, UTC]\n",
      "org                        23563 non-null object\n",
      "tld                        23563 non-null object\n",
      "ccs                        24840 non-null int64\n",
      "bcced                      24840 non-null int64\n",
      "mail_type                  24769 non-null object\n",
      "images                     24840 non-null int64\n",
      "urls                       24840 non-null int64\n",
      "salutations                24840 non-null int64\n",
      "designation                24840 non-null int64\n",
      "chars_in_subject           24840 non-null int64\n",
      "chars_in_body              24840 non-null int64\n",
      "label                      24840 non-null int64\n",
      "chars_in_subject_binned    24840 non-null int64\n",
      "year                       24840 non-null int64\n",
      "month                      24840 non-null int64\n",
      "day                        24840 non-null int64\n",
      "hour                       24840 non-null int64\n",
      "minute                     24840 non-null int64\n",
      "second                     24840 non-null int64\n",
      "weekday                    24840 non-null int64\n",
      "work_flag                  24840 non-null object\n",
      "dtypes: datetime64[ns, UTC](1), int64(17), object(4)\n",
      "memory usage: 4.2+ MB\n"
     ]
    }
   ],
   "source": [
    "df.info()"
   ]
  },
  {
   "cell_type": "markdown",
   "metadata": {},
   "source": [
    "# Approach 2 - Create 3 buckets for time and 2 for day\n",
    "4 PM - 12PM - 1\n",
    "\n",
    "12 AM - 8 AM - 2\n",
    "\n",
    "8 AM - 4 PM  - 3\n",
    "\n",
    "# for the days, we can have buckets as\n",
    "\n",
    " days 6,7 - weekend\n",
    " days - 1-5 as weekdays\n",
    "\n",
    "See the graphs below and let us discuss it"
   ]
  },
  {
   "cell_type": "code",
   "execution_count": 94,
   "metadata": {},
   "outputs": [
    {
     "data": {
      "text/plain": [
       "array([[<matplotlib.axes._subplots.AxesSubplot object at 0x0000029E21096C88>,\n",
       "        <matplotlib.axes._subplots.AxesSubplot object at 0x0000029E217F5B00>],\n",
       "       [<matplotlib.axes._subplots.AxesSubplot object at 0x0000029E2182A0F0>,\n",
       "        <matplotlib.axes._subplots.AxesSubplot object at 0x0000029E24A096A0>]],\n",
       "      dtype=object)"
      ]
     },
     "execution_count": 94,
     "metadata": {},
     "output_type": "execute_result"
    },
    {
     "data": {
      "image/png": "[encoded data removed]",
      "text/plain": [
       "<Figure size 432x288 with 4 Axes>"
      ]
     },
     "metadata": {
      "needs_background": "light"
     },
     "output_type": "display_data"
    }
   ],
   "source": [
    "import matplotlib.pyplot as plt\n",
    "\n",
    "df.hist(column='hour', by = 'label', bins = 24)"
   ]
  },
  {
   "cell_type": "code",
   "execution_count": 95,
   "metadata": {},
   "outputs": [
    {
     "data": {
      "text/plain": [
       "array([[<matplotlib.axes._subplots.AxesSubplot object at 0x0000029E25203160>,\n",
       "        <matplotlib.axes._subplots.AxesSubplot object at 0x0000029E25269940>],\n",
       "       [<matplotlib.axes._subplots.AxesSubplot object at 0x0000029E25294EF0>,\n",
       "        <matplotlib.axes._subplots.AxesSubplot object at 0x0000029E252D04E0>]],\n",
       "      dtype=object)"
      ]
     },
     "execution_count": 95,
     "metadata": {},
     "output_type": "execute_result"
    },
    {
     "data": {
      "image/png": "[encoded data removed]",
      "text/plain": [
       "<Figure size 432x288 with 4 Axes>"
      ]
     },
     "metadata": {
      "needs_background": "light"
     },
     "output_type": "display_data"
    }
   ],
   "source": [
    "import matplotlib.pyplot as plt\n",
    "df.hist(column='weekday', by = 'label', bins = 24)"
   ]
  },
  {
   "cell_type": "code",
   "execution_count": 29,
   "metadata": {},
   "outputs": [],
   "source": [
    "def hour_flag(df):\n",
    "\n",
    "    if (16 <= df['hour'] < 24):\n",
    "        return '0'\n",
    "    elif(0 <= df['hour'] < 8):\n",
    "        return '1'\n",
    "    elif(8 <= df['hour'] < 16):\n",
    "        return '2'\n",
    "\n",
    "df['hour_flag'] = df.apply(hour_flag, axis = 1)\n",
    "\n",
    "# that is how you do it, apply - lambda works on one condition in multiple cilumns but not on mutilple \n",
    "#conditions on multiple columns"
   ]
  },
  {
   "cell_type": "code",
   "execution_count": 30,
   "metadata": {},
   "outputs": [],
   "source": [
    "def day_flag(df):\n",
    "\n",
    "    if (df['weekday'] <= 5):\n",
    "        return '0'\n",
    "    else:\n",
    "        return '1'\n",
    "\n",
    "df['day_flag'] = df.apply(day_flag, axis = 1)\n",
    "\n",
    "# that is how you do it, apply - lambda works on one condition in multiple cilumns but not on mutilple \n",
    "#conditions on multiple columns"
   ]
  },
  {
   "cell_type": "markdown",
   "metadata": {},
   "source": [
    "# Making buckets for the characters in the body and heading"
   ]
  },
  {
   "cell_type": "code",
   "execution_count": 19,
   "metadata": {},
   "outputs": [
    {
     "data": {
      "image/png": "[encoded data removed]",
      "text/plain": [
       "<Figure size 432x288 with 1 Axes>"
      ]
     },
     "metadata": {
      "needs_background": "light"
     },
     "output_type": "display_data"
    }
   ],
   "source": [
    "plt.hist(df['chars_in_subject'], bins = list(np.arange(0, 300, 10)))\n",
    "df['chars_in_subject_binned'] = np.searchsorted(list(np.arange(0, 300, 10)), df['chars_in_subject'].values)"
   ]
  },
  {
   "cell_type": "markdown",
   "metadata": {},
   "source": [
    "# for char in SUBJECT - \n",
    "\n",
    "## we can have the following buckets:\n",
    "\n",
    "char >150 - 1\n",
    "\n",
    "70 < char < 150 -2\n",
    "\n",
    "20 < char < 70 -3\n",
    "\n",
    "Char < 20 - 4"
   ]
  },
  {
   "cell_type": "code",
   "execution_count": 31,
   "metadata": {},
   "outputs": [],
   "source": [
    "def char_subj_flag(df):\n",
    "\n",
    "    if (df['chars_in_subject'] >= 150):\n",
    "        return '0'\n",
    "    elif(70 <= df['chars_in_subject'] < 150 ):\n",
    "        return '1'\n",
    "    elif(20 <= df['chars_in_subject'] < 70):\n",
    "        return '2'\n",
    "    elif( df['chars_in_subject'] < 20):\n",
    "        return '3'\n",
    "\n",
    "df['char_subj_flag'] = df.apply(char_subj_flag, axis = 1)\n",
    "\n",
    "# that is how you do it, apply - lambda works on one condition in multiple cilumns but not on mutilple \n",
    "#conditions on multiple columns"
   ]
  },
  {
   "cell_type": "code",
   "execution_count": 17,
   "metadata": {},
   "outputs": [
    {
     "name": "stdout",
     "output_type": "stream",
     "text": [
      "60769114\n"
     ]
    },
    {
     "data": {
      "image/png": "[encoded data removed]",
      "text/plain": [
       "<Figure size 432x288 with 1 Axes>"
      ]
     },
     "metadata": {
      "needs_background": "light"
     },
     "output_type": "display_data"
    }
   ],
   "source": [
    "plt.hist(df['chars_in_body'], bins = list(np.arange(0, 150000, 300))) # put this into action?\n",
    "print(max(df['chars_in_body']))"
   ]
  },
  {
   "cell_type": "code",
   "execution_count": 69,
   "metadata": {},
   "outputs": [
    {
     "data": {
      "text/plain": [
       "[4, 1210, 548, 1641, 16428, 21096, 869, 690, 533, 680]"
      ]
     },
     "execution_count": 69,
     "metadata": {},
     "output_type": "execute_result"
    }
   ],
   "source": [
    "df['chars_in_body'].value_counts()[:10].index.tolist()"
   ]
  },
  {
   "cell_type": "code",
   "execution_count": 68,
   "metadata": {},
   "outputs": [
    {
     "data": {
      "text/plain": [
       "(array([33.,  4.,  5.,  6.,  0.,  0.,  0.,  0.,  0.,  0.,  0.,  0.,  0.,\n",
       "         0.,  0.,  0.,  0.,  0.,  0.,  0.,  0.,  1.,  0.,  0.,  0.,  0.,\n",
       "         0.,  0.,  0.,  0.,  0.,  0.,  0.,  0.,  0.,  0.,  0.,  0.,  0.,\n",
       "         0.,  0.,  0.,  0.,  0.,  0.,  0.,  0.,  0.,  0.,  1.]),\n",
       " array([4.0000000e+00, 8.4160800e+03, 1.6828160e+04, 2.5240240e+04,\n",
       "        3.3652320e+04, 4.2064400e+04, 5.0476480e+04, 5.8888560e+04,\n",
       "        6.7300640e+04, 7.5712720e+04, 8.4124800e+04, 9.2536880e+04,\n",
       "        1.0094896e+05, 1.0936104e+05, 1.1777312e+05, 1.2618520e+05,\n",
       "        1.3459728e+05, 1.4300936e+05, 1.5142144e+05, 1.5983352e+05,\n",
       "        1.6824560e+05, 1.7665768e+05, 1.8506976e+05, 1.9348184e+05,\n",
       "        2.0189392e+05, 2.1030600e+05, 2.1871808e+05, 2.2713016e+05,\n",
       "        2.3554224e+05, 2.4395432e+05, 2.5236640e+05, 2.6077848e+05,\n",
       "        2.6919056e+05, 2.7760264e+05, 2.8601472e+05, 2.9442680e+05,\n",
       "        3.0283888e+05, 3.1125096e+05, 3.1966304e+05, 3.2807512e+05,\n",
       "        3.3648720e+05, 3.4489928e+05, 3.5331136e+05, 3.6172344e+05,\n",
       "        3.7013552e+05, 3.7854760e+05, 3.8695968e+05, 3.9537176e+05,\n",
       "        4.0378384e+05, 4.1219592e+05, 4.2060800e+05]),\n",
       " <a list of 50 Patch objects>)"
      ]
     },
     "execution_count": 68,
     "metadata": {},
     "output_type": "execute_result"
    },
    {
     "data": {
      "image/png": "[encoded data removed]",
      "text/plain": [
       "<Figure size 432x288 with 1 Axes>"
      ]
     },
     "metadata": {
      "needs_background": "light"
     },
     "output_type": "display_data"
    }
   ],
   "source": [
    "plt.hist(df['chars_in_body'].value_counts()[:50].index.tolist(), bins = 50)"
   ]
  },
  {
   "cell_type": "code",
   "execution_count": 67,
   "metadata": {},
   "outputs": [
    {
     "data": {
      "text/plain": [
       "(array([6., 2., 0., 0., 0., 0., 0., 0., 0., 0., 0., 0., 0., 0., 0., 1., 0.,\n",
       "        0., 0., 1.]),\n",
       " array([4.00000e+00, 1.05860e+03, 2.11320e+03, 3.16780e+03, 4.22240e+03,\n",
       "        5.27700e+03, 6.33160e+03, 7.38620e+03, 8.44080e+03, 9.49540e+03,\n",
       "        1.05500e+04, 1.16046e+04, 1.26592e+04, 1.37138e+04, 1.47684e+04,\n",
       "        1.58230e+04, 1.68776e+04, 1.79322e+04, 1.89868e+04, 2.00414e+04,\n",
       "        2.10960e+04]),\n",
       " <a list of 20 Patch objects>)"
      ]
     },
     "execution_count": 67,
     "metadata": {},
     "output_type": "execute_result"
    },
    {
     "data": {
      "image/png": "[encoded data removed]",
      "text/plain": [
       "<Figure size 432x288 with 1 Axes>"
      ]
     },
     "metadata": {
      "needs_background": "light"
     },
     "output_type": "display_data"
    }
   ],
   "source": [
    "plt.hist(df['chars_in_body'].value_counts()[:10].index.tolist(), bins = 20)"
   ]
  },
  {
   "cell_type": "markdown",
   "metadata": {},
   "source": [
    "# for char in BODY - \n",
    "\n",
    "## we can have the following buckets:\n",
    "\n",
    "char < 4000 - 1\n",
    "\n",
    "4000 < char < 3000 -2\n",
    "\n",
    "3000 < char < 2000 -3\n",
    "\n",
    "2000 < Char < 1000 - 4\n",
    "\n",
    "Char < 1000 - 5"
   ]
  },
  {
   "cell_type": "code",
   "execution_count": 87,
   "metadata": {},
   "outputs": [
    {
     "data": {
      "text/plain": [
       "0        4\n",
       "1        4\n",
       "2        4\n",
       "3        4\n",
       "4        4\n",
       "5        4\n",
       "6        4\n",
       "7        4\n",
       "8        4\n",
       "9        4\n",
       "10       4\n",
       "11       4\n",
       "12       4\n",
       "13       4\n",
       "14       4\n",
       "15       4\n",
       "16       4\n",
       "17       4\n",
       "18       4\n",
       "19       4\n",
       "20       4\n",
       "21       4\n",
       "22       4\n",
       "23       4\n",
       "24       4\n",
       "25       4\n",
       "26       4\n",
       "27       4\n",
       "28       4\n",
       "29       4\n",
       "        ..\n",
       "24810    4\n",
       "24811    4\n",
       "24812    4\n",
       "24813    4\n",
       "24814    4\n",
       "24815    4\n",
       "24816    4\n",
       "24817    4\n",
       "24818    4\n",
       "24819    4\n",
       "24820    4\n",
       "24821    4\n",
       "24822    4\n",
       "24823    4\n",
       "24824    4\n",
       "24825    4\n",
       "24826    4\n",
       "24827    4\n",
       "24828    4\n",
       "24829    4\n",
       "24830    4\n",
       "24831    4\n",
       "24832    4\n",
       "24833    4\n",
       "24834    4\n",
       "24835    4\n",
       "24836    4\n",
       "24837    4\n",
       "24838    4\n",
       "24839    4\n",
       "Name: char_main_flag, Length: 24840, dtype: int32"
      ]
     },
     "execution_count": 87,
     "metadata": {},
     "output_type": "execute_result"
    }
   ],
   "source": [
    "def char_main_flag(df):\n",
    "\n",
    "    if (df['chars_in_subject'] > 4000):\n",
    "        return 'int(0)'\n",
    "    elif(4000 <= df['chars_in_subject'] < 3000 ):\n",
    "        return int(1)\n",
    "    elif(3000 <= df['chars_in_subject'] < 2000):\n",
    "        return int(2)\n",
    "    elif(2000 <= df['chars_in_subject'] < 1000):\n",
    "        return int(3)\n",
    "    elif( df['chars_in_subject'] < 1000):\n",
    "        return int(4)\n",
    "\n",
    "df['char_main_flag'] = df.apply(char_main_flag, axis = 1)\n",
    "df['char_main_flag'].astype(str).astype(int)\n",
    "# that is how you do it, apply - lambda works on one condition in multiple cilumns but not on mutilple \n",
    "#conditions on multiple columns"
   ]
  },
  {
   "cell_type": "code",
   "execution_count": 88,
   "metadata": {},
   "outputs": [
    {
     "name": "stdout",
     "output_type": "stream",
     "text": [
      "<class 'pandas.core.frame.DataFrame'>\n",
      "RangeIndex: 24840 entries, 0 to 24839\n",
      "Data columns (total 26 columns):\n",
      "date                       24840 non-null datetime64[ns, UTC]\n",
      "org                        23563 non-null object\n",
      "tld                        23563 non-null object\n",
      "ccs                        24840 non-null int64\n",
      "bcced                      24840 non-null int64\n",
      "mail_type                  24769 non-null object\n",
      "images                     24840 non-null int64\n",
      "urls                       24840 non-null int64\n",
      "salutations                24840 non-null int64\n",
      "designation                24840 non-null int64\n",
      "chars_in_subject           24840 non-null int64\n",
      "chars_in_body              24840 non-null int64\n",
      "label                      24840 non-null int64\n",
      "chars_in_subject_binned    24840 non-null int64\n",
      "year                       24840 non-null int64\n",
      "month                      24840 non-null int64\n",
      "day                        24840 non-null int64\n",
      "hour                       24840 non-null int64\n",
      "minute                     24840 non-null int64\n",
      "second                     24840 non-null int64\n",
      "weekday                    24840 non-null int64\n",
      "work_flag                  24840 non-null object\n",
      "hour_flag                  24840 non-null object\n",
      "day_flag                   24840 non-null object\n",
      "char_subj_flag             24840 non-null object\n",
      "char_main_flag             24840 non-null int64\n",
      "dtypes: datetime64[ns, UTC](1), int64(18), object(7)\n",
      "memory usage: 4.9+ MB\n"
     ]
    }
   ],
   "source": [
    "df.info()"
   ]
  }
 ],
 "metadata": {
  "kernelspec": {
   "display_name": "Python 3",
   "language": "python",
   "name": "python3"
  },
  "language_info": {
   "codemirror_mode": {
    "name": "ipython",
    "version": 3
   },
   "file_extension": ".py",
   "mimetype": "text/x-python",
   "name": "python",
   "nbconvert_exporter": "python",
   "pygments_lexer": "ipython3",
   "version": "3.7.3"
  }
 },
 "nbformat": 4,
 "nbformat_minor": 2
}
